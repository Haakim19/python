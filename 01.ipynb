{
 "cells": [
  {
   "cell_type": "code",
   "execution_count": null,
   "id": "207b75c2",
   "metadata": {},
   "outputs": [
    {
     "name": "stdout",
     "output_type": "stream",
     "text": [
      "[1 2 3 4 5]\n"
     ]
    }
   ],
   "source": [
    "import numpy as np\n",
    "\n",
    "## This a 1 dimentional array \n",
    "arr = np.array([1, 2, 3, 4, 5])\n",
    "print(arr)"
   ]
  },
  {
   "cell_type": "code",
   "execution_count": 4,
   "id": "64c20eae",
   "metadata": {},
   "outputs": [
    {
     "name": "stdout",
     "output_type": "stream",
     "text": [
      "<class 'numpy.ndarray'>\n"
     ]
    }
   ],
   "source": [
    "print(type(arr))"
   ]
  },
  {
   "cell_type": "code",
   "execution_count": 6,
   "id": "c545d5aa",
   "metadata": {},
   "outputs": [
    {
     "name": "stdout",
     "output_type": "stream",
     "text": [
      "[1 2 3 4 5 6]\n",
      "<class 'numpy.ndarray'>\n"
     ]
    }
   ],
   "source": [
    "arr1 = np.array((1, 2, 3, 4, 5, 6))\n",
    "print(arr1)\n",
    "print(type(arr1))"
   ]
  },
  {
   "cell_type": "markdown",
   "id": "a9ef726d",
   "metadata": {},
   "source": [
    "### 0D array\n",
    "###### *Each value in an array is a 0-D array*"
   ]
  },
  {
   "cell_type": "code",
   "execution_count": 23,
   "id": "302999f0",
   "metadata": {},
   "outputs": [
    {
     "name": "stdout",
     "output_type": "stream",
     "text": [
      "42\n",
      "0\n"
     ]
    }
   ],
   "source": [
    "Arr = np.array(42)\n",
    "print(Arr)\n",
    "print(Arr.ndim)"
   ]
  },
  {
   "cell_type": "markdown",
   "id": "bda3cb9a",
   "metadata": {},
   "source": [
    "### 1D array\n",
    "###### *An array that has 0-D arrays as its elements is called uni-dimensional or 1-D array.*"
   ]
  },
  {
   "cell_type": "code",
   "execution_count": null,
   "id": "e1df0adf",
   "metadata": {},
   "outputs": [
    {
     "name": "stdout",
     "output_type": "stream",
     "text": [
      "[1 2 3 4 5 6]\n",
      "1\n",
      "4\n",
      "[2 3 4 5]\n",
      "[2 3 4 5 6]\n",
      "[1 2]\n",
      "[1 2 3 4 5 6]\n"
     ]
    }
   ],
   "source": [
    "arr2 = np.array([1,2,3,4,5,6])\n",
    "print(arr2)\n",
    "print(arr2.ndim)\n",
    "print(arr2[3]) #? Indexing\n",
    "print(arr2[1:5]) # Slicing An array from 1st index to 2nd index\n",
    "print(arr2[1:]) # Slicing array from 1st index to lentgh of the array\n",
    "print(arr2[:2]) # Slicing array from start to 2nd index\n",
    "print(arr2[:]) # Slicing array from start to end with lenth of array\n"
   ]
  },
  {
   "cell_type": "markdown",
   "id": "d97d9d16",
   "metadata": {},
   "source": [
    "### 2-D Arrays\n",
    "###### *An array that has 1-D arrays as its elements is called a 2-D array.*\n",
    "###### *These are often used to represent matrix or 2nd order tensors.*"
   ]
  },
  {
   "cell_type": "code",
   "execution_count": 84,
   "id": "064feb13",
   "metadata": {},
   "outputs": [
    {
     "name": "stdout",
     "output_type": "stream",
     "text": [
      "[[1 2 3]\n",
      " [4 5 6]]\n",
      "2\n",
      "6\n",
      "[1 2]\n",
      "(2, 3)\n"
     ]
    }
   ],
   "source": [
    "arr3 = np.array([[1,2,3],[4,5,6]])\n",
    "print(arr3)\n",
    "print(arr3.ndim)\n",
    "print(arr3[1,2])\n",
    "print(arr3[0, 0:2]) # slicing value from 1st element and the start and end \n",
    "print(arr3.shape)"
   ]
  },
  {
   "cell_type": "markdown",
   "id": "0bc9f96a",
   "metadata": {},
   "source": [
    "### 3-D arrays\n",
    "###### *An array that has 2-D arrays (matrices) as its elements is called 3-D array.*\n",
    "\n",
    "###### *These are often used to represent a 3rd order tensor.*"
   ]
  },
  {
   "cell_type": "code",
   "execution_count": 83,
   "id": "10176f4c",
   "metadata": {},
   "outputs": [
    {
     "name": "stdout",
     "output_type": "stream",
     "text": [
      "[[[1 2 3]\n",
      "  [4 5 6]]\n",
      "\n",
      " [[7 8 9]\n",
      "  [3 2 1]]]\n",
      "3\n",
      "9\n",
      "(2, 2, 3)\n"
     ]
    }
   ],
   "source": [
    "arr4 = np.array([[[1,2,3],[4,5,6]],[[7,8,9],[3,2,1]]])\n",
    "print(arr4)\n",
    "print(arr4.ndim)\n",
    "print(arr4[1,0,2])\n",
    "print(arr4.shape)"
   ]
  },
  {
   "cell_type": "code",
   "execution_count": 21,
   "id": "1de0e0fd",
   "metadata": {},
   "outputs": [
    {
     "name": "stdout",
     "output_type": "stream",
     "text": [
      "[[[[1 2 3 4]]]]\n",
      "4\n"
     ]
    }
   ],
   "source": [
    "arr = np.array([1,2,3,4], ndmin=4)\n",
    "print(arr)\n",
    "print(arr.ndim)"
   ]
  },
  {
   "cell_type": "code",
   "execution_count": 63,
   "id": "3e716a3d",
   "metadata": {},
   "outputs": [
    {
     "name": "stdout",
     "output_type": "stream",
     "text": [
      "[10 20 30 40]\n"
     ]
    }
   ],
   "source": [
    "arr = np.array([10, 15, 20, 25, 30, 35, 40])\n",
    "print(arr[::2])"
   ]
  },
  {
   "cell_type": "markdown",
   "id": "40097119",
   "metadata": {},
   "source": [
    "### Data Types in NumPy\n",
    "###### NumPy has some extra data types, and refer to data types with one character, like i for integers, u for unsigned integers etc.\n",
    "###### Below is a list of all data types in NumPy and the characters used to represent them.\n",
    "- i - integer\n",
    "- b - boolean\n",
    "- u - unsigned integer\n",
    "- f - float\n",
    "- c - complex float\n",
    "- m - timedelta\n",
    "- M - datetime\n",
    "- O - object\n",
    "- S - string\n",
    "- U - unicode string\n",
    "- V - fixed chunk of memory for other type ( void )"
   ]
  },
  {
   "cell_type": "code",
   "execution_count": 64,
   "id": "6fc3cf76",
   "metadata": {},
   "outputs": [
    {
     "name": "stdout",
     "output_type": "stream",
     "text": [
      "int64\n"
     ]
    }
   ],
   "source": [
    "arr = np.array([1,2,3,4,5])\n",
    "print(arr.dtype)"
   ]
  },
  {
   "cell_type": "code",
   "execution_count": 65,
   "id": "dd7d816c",
   "metadata": {},
   "outputs": [
    {
     "name": "stdout",
     "output_type": "stream",
     "text": [
      "<U6\n"
     ]
    }
   ],
   "source": [
    "arr = np.array(['apple', 'banana', 'cherry'])\n",
    "print(arr.dtype)"
   ]
  },
  {
   "cell_type": "code",
   "execution_count": null,
   "id": "323b7464",
   "metadata": {},
   "outputs": [
    {
     "name": "stdout",
     "output_type": "stream",
     "text": [
      "[b'1' b'2' b'3' b'4' b'5']\n",
      "|S5\n"
     ]
    }
   ],
   "source": [
    "arr = np.array([1,2,3,4,5], dtype='S')\n",
    "print(arr)\n",
    "print(arr.dtype)"
   ]
  },
  {
   "cell_type": "markdown",
   "id": "0e67d6b9",
   "metadata": {},
   "source": [
    "### NumPy Array Copy vs View"
   ]
  },
  {
   "cell_type": "code",
   "execution_count": 79,
   "id": "7ee0dac9",
   "metadata": {},
   "outputs": [
    {
     "name": "stdout",
     "output_type": "stream",
     "text": [
      "[1 2 3 4 5 6]\n",
      "int64\n",
      "[42  2  3  4  5  6]\n",
      "int64\n",
      "None\n"
     ]
    }
   ],
   "source": [
    "# Copy\n",
    "arr = np.array([1,2,3,4,5,6])\n",
    "x = arr.copy()\n",
    "arr[0] = 42\n",
    "print(x)\n",
    "print(x.dtype)\n",
    "print(arr)\n",
    "print(arr.dtype)\n",
    "print(arr.base)\n"
   ]
  },
  {
   "cell_type": "code",
   "execution_count": 81,
   "id": "dac1fd70",
   "metadata": {},
   "outputs": [
    {
     "name": "stdout",
     "output_type": "stream",
     "text": [
      "[42  2  3  4  5  6]\n",
      "int64\n",
      "[42  2  3  4  5  6]\n",
      "int64\n",
      "[42  2  3  4  5  6]\n"
     ]
    }
   ],
   "source": [
    "# view\n",
    "arr = np.array([1,2,3,4,5,6])\n",
    "x = arr.view()\n",
    "arr[0] = 42\n",
    "print(x)\n",
    "print(x.dtype)\n",
    "print(arr)\n",
    "print(arr.dtype)\n",
    "print(x.base)\n"
   ]
  },
  {
   "cell_type": "code",
   "execution_count": 77,
   "id": "e688c0d6",
   "metadata": {},
   "outputs": [
    {
     "name": "stdout",
     "output_type": "stream",
     "text": [
      "[31  2  3  4  5]\n",
      "[31  2  3  4  5]\n"
     ]
    }
   ],
   "source": [
    "arr = np.array([1, 2, 3, 4, 5])\n",
    "x = arr.view()\n",
    "x[0] = 31\n",
    "\n",
    "print(arr)\n",
    "print(x)"
   ]
  },
  {
   "cell_type": "markdown",
   "id": "ee957f97",
   "metadata": {},
   "source": [
    "#### Array Reshaping\n"
   ]
  },
  {
   "cell_type": "code",
   "execution_count": 98,
   "id": "03865874",
   "metadata": {},
   "outputs": [
    {
     "name": "stdout",
     "output_type": "stream",
     "text": [
      "[1 2 3 4 5 6 7 8 9]\n",
      "[[1 2 3]\n",
      " [4 5 6]\n",
      " [7 8 9]]\n",
      "[[[1 2]\n",
      "  [3 4]]\n",
      "\n",
      " [[5 6]\n",
      "  [7 8]]]\n"
     ]
    }
   ],
   "source": [
    "arr = np.array([1,2,3,4,5,6,7,8,9])\n",
    "arr1 = np.array([1,2,3,4,5,6,7,8])\n",
    "arr2 = arr.reshape(3,3) # Reshap the array 1D to 2D\n",
    "arr3 = arr1.reshape(2,2,2)\n",
    "print(arr)\n",
    "print(arr2)\n",
    "print(arr3)"
   ]
  },
  {
   "cell_type": "markdown",
   "id": "0e73daa1",
   "metadata": {},
   "source": [
    "### Array Iterating"
   ]
  },
  {
   "cell_type": "markdown",
   "id": "7d3a8f61",
   "metadata": {},
   "source": [
    "###### **If we iterate on a n-D array it will go through n-1th dimension one by one.**\n",
    "###### **like if there is an 2D array it ittarates in 1D**\n"
   ]
  },
  {
   "cell_type": "code",
   "execution_count": 101,
   "id": "f059b2c1",
   "metadata": {},
   "outputs": [
    {
     "name": "stdout",
     "output_type": "stream",
     "text": [
      "[1 2 3]\n",
      "[4 5 6]\n"
     ]
    }
   ],
   "source": [
    "arr3 = np.array([[1,2,3],[4,5,6]])\n",
    "for x in arr3:\n",
    "    print (x)"
   ]
  },
  {
   "cell_type": "code",
   "execution_count": 102,
   "id": "f2e12732",
   "metadata": {},
   "outputs": [
    {
     "name": "stdout",
     "output_type": "stream",
     "text": [
      "1\n",
      "2\n",
      "3\n",
      "4\n",
      "5\n",
      "6\n"
     ]
    }
   ],
   "source": [
    "# ittereate on each element\n",
    "arr3 = np.array([[1,2,3],[4,5,6]])\n",
    "for x in arr3:\n",
    "    for y in x:\n",
    "        print (y)"
   ]
  },
  {
   "cell_type": "code",
   "execution_count": 110,
   "id": "2a254ff1",
   "metadata": {},
   "outputs": [
    {
     "name": "stdout",
     "output_type": "stream",
     "text": [
      "1\n",
      "2\n",
      "3\n",
      "4\n",
      "5\n",
      "6\n",
      "7\n",
      "8\n",
      "9\n",
      "10\n",
      "11\n",
      "12\n"
     ]
    }
   ],
   "source": [
    "arr = np.array([[[1, 2, 3], [4, 5, 6]], [[7, 8, 9], [10, 11, 12]]])\n",
    "# for x in arr:\n",
    "#     print(x)\n",
    "\n",
    "for x in np.nditer(arr):\n",
    "    print(x)            "
   ]
  },
  {
   "cell_type": "markdown",
   "id": "56411869",
   "metadata": {},
   "source": [
    "#### Joining Array\n"
   ]
  },
  {
   "cell_type": "code",
   "execution_count": 114,
   "id": "94279688",
   "metadata": {},
   "outputs": [
    {
     "name": "stdout",
     "output_type": "stream",
     "text": [
      "[[ 1  2  3]\n",
      " [ 4  5  6]\n",
      " [ 7  8  9]\n",
      " [10 11 12]]\n"
     ]
    }
   ],
   "source": [
    "arr1 = np.array([[1,2,3],[4,5,6]])\n",
    "arr2 = np.array([[7,8,9],[10,11,12]])\n",
    "\n",
    "arr = np.concatenate((arr1,arr2),axis=0)\n",
    "print(arr)"
   ]
  },
  {
   "cell_type": "code",
   "execution_count": 124,
   "id": "3a7b851b",
   "metadata": {},
   "outputs": [
    {
     "name": "stdout",
     "output_type": "stream",
     "text": [
      "[[[ 1  2  3]\n",
      "  [ 4  5  6]\n",
      "  [ 1  2  3]\n",
      "  [ 4  5  6]]\n",
      "\n",
      " [[ 7  8  9]\n",
      "  [10 11 12]\n",
      "  [ 7  8  9]\n",
      "  [10 11 12]]]\n",
      "[[[ 1  2  3  1  2  3]\n",
      "  [ 4  5  6  4  5  6]]\n",
      "\n",
      " [[ 7  8  9  7  8  9]\n",
      "  [10 11 12 10 11 12]]]\n"
     ]
    }
   ],
   "source": [
    "arr1 = np.array([[[1, 2, 3], [4, 5, 6]], [[7, 8, 9], [10, 11, 12]]])\n",
    "arr2 = np.array([[[1, 2, 3], [4, 5, 6]], [[7, 8, 9], [10, 11, 12]]])\n",
    "\n",
    "arr = np.concatenate((arr1,arr2), axis = 0)\n",
    "arr3 = np.concatenate((arr1,arr2), axis = 1)\n",
    "arr4 = np.concatenate((arr1,arr2), axis = 2)\n",
    "\n",
    "# print(arr)\n",
    "print(arr3)\n",
    "print(arr4)"
   ]
  },
  {
   "cell_type": "markdown",
   "id": "74b08896",
   "metadata": {},
   "source": [
    "### Splitting Array"
   ]
  },
  {
   "cell_type": "code",
   "execution_count": 129,
   "id": "4df16c75",
   "metadata": {},
   "outputs": [
    {
     "name": "stdout",
     "output_type": "stream",
     "text": [
      "[array([1, 2]), array([3, 4]), array([5, 6])]\n",
      "[array([1, 2]), array([3, 4]), array([5]), array([6])]\n",
      "[1 2]\n",
      "[3 4]\n",
      "[5 6]\n"
     ]
    }
   ],
   "source": [
    "arr = np.array([1,2,3,4,5,6])\n",
    "newarr = np.array_split(arr,3)\n",
    "newarr1 = np.array_split(arr,4) # if array hase less element than required i will adgest accordingly\n",
    "print(newarr)\n",
    "print(newarr1)\n",
    "print(newarr[0])\n",
    "print(newarr[1])\n",
    "print(newarr[2])"
   ]
  },
  {
   "cell_type": "code",
   "execution_count": 144,
   "id": "d1d7242b",
   "metadata": {},
   "outputs": [
    {
     "name": "stdout",
     "output_type": "stream",
     "text": [
      "[array([[1, 2],\n",
      "       [3, 4]]), array([[5, 6],\n",
      "       [7, 8]]), array([[ 9, 10],\n",
      "       [11, 12]])]\n",
      "[array([[ 1],\n",
      "       [ 3],\n",
      "       [ 5],\n",
      "       [ 7],\n",
      "       [ 9],\n",
      "       [11]]), array([[ 2],\n",
      "       [ 4],\n",
      "       [ 6],\n",
      "       [ 8],\n",
      "       [10],\n",
      "       [12]])]\n",
      "[[ 1  2]\n",
      " [ 3  4]\n",
      " [ 5  6]\n",
      " [ 7  8]\n",
      " [ 9 10]\n",
      " [11 12]]\n"
     ]
    }
   ],
   "source": [
    "# 2D arrays\n",
    "arr = np.array([[1, 2], [3, 4], [5, 6], [7, 8], [9, 10], [11, 12]])\n",
    "newarr = np.array_split(arr,3, axis=0)\n",
    "newarr1 = np.array_split(arr,2, axis=1)\n",
    "print(newarr)\n",
    "print(newarr1)\n",
    "print(arr)"
   ]
  },
  {
   "cell_type": "markdown",
   "id": "fe01ca60",
   "metadata": {},
   "source": [
    "#### Searching Arrays\n"
   ]
  },
  {
   "cell_type": "code",
   "execution_count": 149,
   "id": "f0e9ce17",
   "metadata": {},
   "outputs": [
    {
     "name": "stdout",
     "output_type": "stream",
     "text": [
      "(array([3, 6]),)\n"
     ]
    }
   ],
   "source": [
    "arr = np.array([1,2,3,4,5,6,4])\n",
    "x = np.where(arr == 4)\n",
    "print(x)"
   ]
  },
  {
   "cell_type": "markdown",
   "id": "29df8dcb",
   "metadata": {},
   "source": [
    "##### Search Sorted"
   ]
  },
  {
   "cell_type": "markdown",
   "id": "8552382d",
   "metadata": {},
   "source": [
    "###### The searchsorted() method is assumed to be used on sorted arrays."
   ]
  },
  {
   "cell_type": "code",
   "execution_count": null,
   "id": "0c24e459",
   "metadata": {},
   "outputs": [
    {
     "name": "stdout",
     "output_type": "stream",
     "text": [
      "2\n",
      "[1 3 3 4 5 6 8]\n",
      "3\n"
     ]
    }
   ],
   "source": [
    "arr = np.array([1,2,3])\n",
    "print(x)\n",
    "x = np.searchsorted(arr,3)\n",
    "\n",
    "# sort o=unorderd array and find the index\n",
    "arr1 = np.array([4,3,6,5,8,1,3])\n",
    "y = np.sort(arr1)\n",
    "z = np.searchsorted(y,4)\n",
    "print(y)\n",
    "print(z)"
   ]
  },
  {
   "cell_type": "code",
   "execution_count": null,
   "id": "a51cd33c",
   "metadata": {},
   "outputs": [
    {
     "name": "stdout",
     "output_type": "stream",
     "text": [
      "[1 2 3]\n"
     ]
    }
   ],
   "source": [
    "# Find the indexes where the values 2, 4, and 6 should be inserted:\n",
    "arr = np.array([1, 3, 5, 7])\n",
    "\n",
    "x = np.searchsorted(arr, [2, 4, 6])\n",
    "print(x)"
   ]
  },
  {
   "cell_type": "markdown",
   "id": "ea3ad296",
   "metadata": {},
   "source": [
    "#### Sorting Arrays"
   ]
  },
  {
   "cell_type": "code",
   "execution_count": 159,
   "id": "1d3ed73a",
   "metadata": {},
   "outputs": [
    {
     "name": "stdout",
     "output_type": "stream",
     "text": [
      "['apple' 'banana' 'cherry']\n"
     ]
    }
   ],
   "source": [
    "arr = np.array(['banana', 'cherry', 'apple'])\n",
    "\n",
    "print(np.sort(arr))"
   ]
  },
  {
   "cell_type": "code",
   "execution_count": null,
   "id": "eecd572c",
   "metadata": {},
   "outputs": [
    {
     "name": "stdout",
     "output_type": "stream",
     "text": [
      "[[2 3 4]\n",
      " [0 1 5]]\n"
     ]
    }
   ],
   "source": [
    "# soring a 2D array\n",
    "arr = np.array([[3, 2, 4], [5, 0, 1]])\n",
    "\n",
    "print(np.sort(arr))"
   ]
  },
  {
   "cell_type": "markdown",
   "id": "17f878af",
   "metadata": {},
   "source": [
    "#### Filter Array"
   ]
  },
  {
   "cell_type": "code",
   "execution_count": null,
   "id": "70d0e34e",
   "metadata": {},
   "outputs": [
    {
     "name": "stdout",
     "output_type": "stream",
     "text": [
      "[False, True, True, False, True, True, False, True]\n",
      "[43 65 98 43 45]\n",
      "[43 65 98 43 45]\n"
     ]
    }
   ],
   "source": [
    "arr = np.array([12,43,65,22,98,43,11,45])\n",
    "# method 01\n",
    "filter_arr = []\n",
    "\n",
    "for elements in arr:\n",
    "    if elements >30:\n",
    "        filter_arr.append(True)\n",
    "    else:\n",
    "        filter_arr.append(False)\n",
    "newarr = arr[filter_arr]\n",
    "\n",
    "print(filter_arr)\n",
    "print(newarr)\n",
    "\n",
    "# method 02\n",
    "filter_arr1 = arr >30\n",
    "newarr1 = arr[filter_arr1]\n",
    "print(newarr1)"
   ]
  },
  {
   "cell_type": "code",
   "execution_count": 166,
   "id": "ad7058ed",
   "metadata": {},
   "outputs": [
    {
     "name": "stdout",
     "output_type": "stream",
     "text": [
      "[12 54 70 20]\n",
      "[ True False False  True  True  True]\n",
      "[12 54 70 20]\n"
     ]
    }
   ],
   "source": [
    "arr = np.array([12,11,43,54,70,20])\n",
    "\n",
    "filter_arr = []\n",
    "\n",
    "for element in arr :\n",
    "    if element % 2 == 0:\n",
    "        filter_arr.append(True)\n",
    "    else:\n",
    "        filter_arr.append(False)\n",
    "\n",
    "x = arr[filter_arr]\n",
    "\n",
    "print(x)\n",
    "\n",
    "\n",
    "filter_arr1 = arr % 2 == 0\n",
    "\n",
    "newarr = arr[filter_arr1]\n",
    "\n",
    "print(filter_arr1)\n",
    "print(newarr)"
   ]
  }
 ],
 "metadata": {
  "kernelspec": {
   "display_name": "venv",
   "language": "python",
   "name": "python3"
  },
  "language_info": {
   "codemirror_mode": {
    "name": "ipython",
    "version": 3
   },
   "file_extension": ".py",
   "mimetype": "text/x-python",
   "name": "python",
   "nbconvert_exporter": "python",
   "pygments_lexer": "ipython3",
   "version": "3.13.2"
  }
 },
 "nbformat": 4,
 "nbformat_minor": 5
}
