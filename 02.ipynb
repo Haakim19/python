{
 "cells": [
  {
   "cell_type": "markdown",
   "id": "30790bad",
   "metadata": {},
   "source": [
    "### Random Numbers in NumPy"
   ]
  },
  {
   "cell_type": "code",
   "execution_count": 99,
   "id": "c6e6e95c",
   "metadata": {},
   "outputs": [],
   "source": [
    "import numpy as np\n",
    "from numpy import random"
   ]
  },
  {
   "cell_type": "code",
   "execution_count": null,
   "id": "0cc6b0d7",
   "metadata": {},
   "outputs": [
    {
     "name": "stdout",
     "output_type": "stream",
     "text": [
      "69\n"
     ]
    }
   ],
   "source": [
    "# Generate a random integer from 0 to 100\n",
    "x = random.randint(100)\n",
    "print(x)"
   ]
  },
  {
   "cell_type": "code",
   "execution_count": 89,
   "id": "e41e1218",
   "metadata": {},
   "outputs": [
    {
     "name": "stdout",
     "output_type": "stream",
     "text": [
      "0.7180558074655287\n"
     ]
    }
   ],
   "source": [
    "# Generate a random float from 0 to 1\n",
    "x = random.rand()\n",
    "print(x)"
   ]
  },
  {
   "cell_type": "code",
   "execution_count": 71,
   "id": "21fa2c99",
   "metadata": {},
   "outputs": [
    {
     "name": "stdout",
     "output_type": "stream",
     "text": [
      "[52 49 95 22 99 82 37 32 28]\n"
     ]
    }
   ],
   "source": [
    "# Generate a 1-D array containing 9 random integers from 0 to 100\n",
    "x = random.randint(100, size=(9))\n",
    "print(x)"
   ]
  },
  {
   "cell_type": "code",
   "execution_count": 73,
   "id": "224b74db",
   "metadata": {},
   "outputs": [
    {
     "name": "stdout",
     "output_type": "stream",
     "text": [
      "[[29 72 94 82 52]\n",
      " [85 43 15 68 10]\n",
      " [31 18 21 98 58]]\n"
     ]
    }
   ],
   "source": [
    "# Generate a 2-D array with 3 rows, each row containing 5 random integers from 0 to 100\n",
    "x = random.randint(100, size=(3,5))\n",
    "print(x)"
   ]
  },
  {
   "cell_type": "code",
   "execution_count": 91,
   "id": "a8768377",
   "metadata": {},
   "outputs": [
    {
     "name": "stdout",
     "output_type": "stream",
     "text": [
      "[0.72303103 0.55702037 0.14464589 0.19240048 0.67517575]\n"
     ]
    }
   ],
   "source": [
    "x = random.rand(5)\n",
    "print(x)"
   ]
  },
  {
   "cell_type": "code",
   "execution_count": 93,
   "id": "bed1c66e",
   "metadata": {},
   "outputs": [
    {
     "name": "stdout",
     "output_type": "stream",
     "text": [
      "[[0.98329227 0.48917821 0.26609685 0.44459182 0.26719555]\n",
      " [0.092407   0.29253555 0.64419913 0.074209   0.66463027]\n",
      " [0.92041461 0.78769653 0.21330541 0.01875063 0.37334692]]\n"
     ]
    }
   ],
   "source": [
    "x = random.rand(3,5)\n",
    "print(x)"
   ]
  },
  {
   "cell_type": "code",
   "execution_count": 94,
   "id": "79ba589f",
   "metadata": {},
   "outputs": [
    {
     "name": "stdout",
     "output_type": "stream",
     "text": [
      "5\n"
     ]
    }
   ],
   "source": [
    "x = random.choice([2,5,6,8])\n",
    "print(x)"
   ]
  },
  {
   "cell_type": "code",
   "execution_count": 95,
   "id": "f1736bca",
   "metadata": {},
   "outputs": [
    {
     "name": "stdout",
     "output_type": "stream",
     "text": [
      "[[5 6]\n",
      " [2 5]\n",
      " [8 6]]\n"
     ]
    }
   ],
   "source": [
    "x = random.choice([2,5,6,8],size=(3,2))\n",
    "print(x)"
   ]
  },
  {
   "cell_type": "markdown",
   "id": "22ddc5db",
   "metadata": {},
   "source": [
    "#### Random Data Distribution"
   ]
  },
  {
   "cell_type": "code",
   "execution_count": 98,
   "id": "4aa69187",
   "metadata": {},
   "outputs": [
    {
     "name": "stdout",
     "output_type": "stream",
     "text": [
      "[5 9 3 3 5 3 3 9 9 3 9 9 5 7 9 9 5 9 7 5 3 3 7 9 9 7 7 7 3 7 5 3 7 7 9 5 3\n",
      " 5 3 5 5 9 5 5 7 5 7 7 7 7 7 3 7 5 9 5 5 7 3 7 9 5 7 7 5 7 7 7 9 3 5 3 9 3\n",
      " 9 5 9 7 3 5 7 5 9 7 9 9 9 9 7 9 9 7 5 5 7 5 9 9 5 7]\n"
     ]
    }
   ],
   "source": [
    "x = random.choice([3,5,7,9], p=(0.15,0.3,0.3,0.25), size=(100))\n",
    "print(x)"
   ]
  },
  {
   "cell_type": "markdown",
   "id": "a793855c",
   "metadata": {},
   "source": [
    "#### Random Permutations\n"
   ]
  },
  {
   "cell_type": "code",
   "execution_count": null,
   "id": "b8a1f345",
   "metadata": {},
   "outputs": [
    {
     "name": "stdout",
     "output_type": "stream",
     "text": [
      "[2 1 4 3 5]\n"
     ]
    }
   ],
   "source": [
    "# The shuffle() method makes changes to the original array.\n",
    "x = np.array([1,2,3,4,5])\n",
    "random.shuffle(x)\n",
    "print(x)"
   ]
  },
  {
   "cell_type": "code",
   "execution_count": null,
   "id": "479e3708",
   "metadata": {},
   "outputs": [
    {
     "name": "stdout",
     "output_type": "stream",
     "text": [
      "[1 2 3 4 5]\n"
     ]
    }
   ],
   "source": [
    "# The permutation() method returns a re-arranged array (and leaves the original array un-changed).\n",
    "x = np.array([1,2,3,4,5])\n",
    "print(random.permutation(x))"
   ]
  }
 ],
 "metadata": {
  "kernelspec": {
   "display_name": "venv",
   "language": "python",
   "name": "python3"
  },
  "language_info": {
   "codemirror_mode": {
    "name": "ipython",
    "version": 3
   },
   "file_extension": ".py",
   "mimetype": "text/x-python",
   "name": "python",
   "nbconvert_exporter": "python",
   "pygments_lexer": "ipython3",
   "version": "3.13.2"
  }
 },
 "nbformat": 4,
 "nbformat_minor": 5
}
