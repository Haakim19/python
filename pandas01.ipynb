{
 "cells": [
  {
   "cell_type": "code",
   "execution_count": 2,
   "id": "18a86bb2",
   "metadata": {},
   "outputs": [],
   "source": [
    "import pandas as pd"
   ]
  },
  {
   "cell_type": "code",
   "execution_count": 2,
   "id": "dc0ebb49",
   "metadata": {},
   "outputs": [
    {
     "name": "stdout",
     "output_type": "stream",
     "text": [
      "   0\n",
      "0  1\n",
      "1  2\n",
      "2  3\n",
      "3  4\n",
      "4  5\n"
     ]
    }
   ],
   "source": [
    "mydata = [1,2,3,4,5]\n",
    "\n",
    "myvar = pd.DataFrame(mydata)\n",
    "print(myvar)"
   ]
  },
  {
   "cell_type": "markdown",
   "id": "b1acd3bb",
   "metadata": {},
   "source": [
    "### Pandas Series"
   ]
  },
  {
   "cell_type": "code",
   "execution_count": 5,
   "id": "87215ca6",
   "metadata": {},
   "outputs": [
    {
     "name": "stdout",
     "output_type": "stream",
     "text": [
      "0    1\n",
      "1    2\n",
      "2    3\n",
      "3    4\n",
      "4    5\n",
      "dtype: int64\n"
     ]
    }
   ],
   "source": [
    "a = [1,2,3,4,5]\n",
    "myVar = pd.Series(a)\n",
    "print(myVar)"
   ]
  },
  {
   "cell_type": "markdown",
   "id": "871dc04f",
   "metadata": {},
   "source": [
    "##### Key/Value Objects as Series"
   ]
  },
  {
   "cell_type": "code",
   "execution_count": 8,
   "id": "0e2bbafa",
   "metadata": {},
   "outputs": [
    {
     "name": "stdout",
     "output_type": "stream",
     "text": [
      "day1    420\n",
      "day2    380\n",
      "dtype: int64\n"
     ]
    }
   ],
   "source": [
    "calories = {\"day1\": 420, \"day2\": 380, \"day3\": 390}\n",
    "myVar = pd.Series(calories)\n",
    "myVar = pd.Series(calories, index=[\"day1\", \"day2\"])\n",
    "print(myVar)"
   ]
  },
  {
   "cell_type": "markdown",
   "id": "022bf6cb",
   "metadata": {},
   "source": [
    "### Pandas DataFrames\n",
    "- *A Pandas DataFrame is a 2 dimensional data structure, like a **2 dimensional array**, or a table with rows and columns.*"
   ]
  },
  {
   "cell_type": "markdown",
   "id": "fd7d9800",
   "metadata": {},
   "source": [
    "- *Data sets in Pandas are usually multi-dimensional tables, called DataFrames.*\n",
    "\n",
    "- *Series is like a column, a DataFrame is the whole table.*"
   ]
  },
  {
   "cell_type": "code",
   "execution_count": 12,
   "id": "c5685e05",
   "metadata": {},
   "outputs": [
    {
     "name": "stdout",
     "output_type": "stream",
     "text": [
      "   calories  duration\n",
      "0       230        30\n",
      "1       430        40\n",
      "2       550        22\n",
      "3       321        55\n",
      "calories    230\n",
      "duration     30\n",
      "Name: 0, dtype: int64\n",
      "   calories  duration\n",
      "0       230        30\n",
      "1       430        40\n"
     ]
    }
   ],
   "source": [
    "data = {\n",
    "    \"calories\" : [230,430,550,321],\n",
    "    \"duration\" :[30,40,22,55]\n",
    "}\n",
    "#load data into a DataFrame object:\n",
    "df = pd.DataFrame(data)\n",
    "print(df)\n",
    "\n",
    "#refer to the row index:\n",
    "print(df.loc[0])\n",
    "\n",
    "#use a list of indexes:\n",
    "print(df.loc[[0, 1]])"
   ]
  },
  {
   "cell_type": "code",
   "execution_count": 16,
   "id": "cf6a3bf2",
   "metadata": {},
   "outputs": [
    {
     "name": "stdout",
     "output_type": "stream",
     "text": [
      "      calories  duration\n",
      "day1       203        29\n",
      "day2       558        43\n",
      "day3       907        76\n",
      "day4       226        44\n",
      "day5       654        50\n",
      "calories    203\n",
      "duration     29\n",
      "Name: day1, dtype: int64\n"
     ]
    }
   ],
   "source": [
    "# Add a list of names to give each row a name:\n",
    "data = {\n",
    "    \"calories\" : [203,558,907,226,654],\n",
    "    \"duration\" : [29,43,76,44,50]\n",
    "}\n",
    "\n",
    "df = pd.DataFrame(data, index=[\"day1\", \"day2\", \"day3\", \"day4\", \"day5\"])\n",
    "print(df)\n",
    "print(df.loc[\"day1\"])"
   ]
  },
  {
   "cell_type": "markdown",
   "id": "6a442992",
   "metadata": {},
   "source": [
    "### Pandas Read CSV"
   ]
  },
  {
   "cell_type": "markdown",
   "id": "f38095b6",
   "metadata": {},
   "source": [
    "**Load Files Into a DataFrame**"
   ]
  },
  {
   "cell_type": "code",
   "execution_count": 22,
   "id": "0481c468",
   "metadata": {},
   "outputs": [
    {
     "name": "stdout",
     "output_type": "stream",
     "text": [
      "      Id  SepalLengthCm  SepalWidthCm  PetalLengthCm  PetalWidthCm          Species\n",
      "0      1            5.1           3.5            1.4           0.2      Iris-setosa\n",
      "1      2            4.9           3.0            1.4           0.2      Iris-setosa\n",
      "2      3            4.7           3.2            1.3           0.2      Iris-setosa\n",
      "3      4            4.6           3.1            1.5           0.2      Iris-setosa\n",
      "4      5            5.0           3.6            1.4           0.2      Iris-setosa\n",
      "5      6            5.4           3.9            1.7           0.4      Iris-setosa\n",
      "6      7            4.6           3.4            1.4           0.3      Iris-setosa\n",
      "7      8            5.0           3.4            1.5           0.2      Iris-setosa\n",
      "8      9            4.4           2.9            1.4           0.2      Iris-setosa\n",
      "9     10            4.9           3.1            1.5           0.1      Iris-setosa\n",
      "10    11            5.4           3.7            1.5           0.2      Iris-setosa\n",
      "11    12            4.8           3.4            1.6           0.2      Iris-setosa\n",
      "12    13            4.8           3.0            1.4           0.1      Iris-setosa\n",
      "13    14            4.3           3.0            1.1           0.1      Iris-setosa\n",
      "14    15            5.8           4.0            1.2           0.2      Iris-setosa\n",
      "15    16            5.7           4.4            1.5           0.4      Iris-setosa\n",
      "16    17            5.4           3.9            1.3           0.4      Iris-setosa\n",
      "17    18            5.1           3.5            1.4           0.3      Iris-setosa\n",
      "18    19            5.7           3.8            1.7           0.3      Iris-setosa\n",
      "19    20            5.1           3.8            1.5           0.3      Iris-setosa\n",
      "20    21            5.4           3.4            1.7           0.2      Iris-setosa\n",
      "21    22            5.1           3.7            1.5           0.4      Iris-setosa\n",
      "22    23            4.6           3.6            1.0           0.2      Iris-setosa\n",
      "23    24            5.1           3.3            1.7           0.5      Iris-setosa\n",
      "24    25            4.8           3.4            1.9           0.2      Iris-setosa\n",
      "25    26            5.0           3.0            1.6           0.2      Iris-setosa\n",
      "26    27            5.0           3.4            1.6           0.4      Iris-setosa\n",
      "27    28            5.2           3.5            1.5           0.2      Iris-setosa\n",
      "28    29            5.2           3.4            1.4           0.2      Iris-setosa\n",
      "29    30            4.7           3.2            1.6           0.2      Iris-setosa\n",
      "30    31            4.8           3.1            1.6           0.2      Iris-setosa\n",
      "31    32            5.4           3.4            1.5           0.4      Iris-setosa\n",
      "32    33            5.2           4.1            1.5           0.1      Iris-setosa\n",
      "33    34            5.5           4.2            1.4           0.2      Iris-setosa\n",
      "34    35            4.9           3.1            1.5           0.1      Iris-setosa\n",
      "35    36            5.0           3.2            1.2           0.2      Iris-setosa\n",
      "36    37            5.5           3.5            1.3           0.2      Iris-setosa\n",
      "37    38            4.9           3.1            1.5           0.1      Iris-setosa\n",
      "38    39            4.4           3.0            1.3           0.2      Iris-setosa\n",
      "39    40            5.1           3.4            1.5           0.2      Iris-setosa\n",
      "40    41            5.0           3.5            1.3           0.3      Iris-setosa\n",
      "41    42            4.5           2.3            1.3           0.3      Iris-setosa\n",
      "42    43            4.4           3.2            1.3           0.2      Iris-setosa\n",
      "43    44            5.0           3.5            1.6           0.6      Iris-setosa\n",
      "44    45            5.1           3.8            1.9           0.4      Iris-setosa\n",
      "45    46            4.8           3.0            1.4           0.3      Iris-setosa\n",
      "46    47            5.1           3.8            1.6           0.2      Iris-setosa\n",
      "47    48            4.6           3.2            1.4           0.2      Iris-setosa\n",
      "48    49            5.3           3.7            1.5           0.2      Iris-setosa\n",
      "49    50            5.0           3.3            1.4           0.2      Iris-setosa\n",
      "50    51            7.0           3.2            4.7           1.4  Iris-versicolor\n",
      "51    52            6.4           3.2            4.5           1.5  Iris-versicolor\n",
      "52    53            6.9           3.1            4.9           1.5  Iris-versicolor\n",
      "53    54            5.5           2.3            4.0           1.3  Iris-versicolor\n",
      "54    55            6.5           2.8            4.6           1.5  Iris-versicolor\n",
      "55    56            5.7           2.8            4.5           1.3  Iris-versicolor\n",
      "56    57            6.3           3.3            4.7           1.6  Iris-versicolor\n",
      "57    58            4.9           2.4            3.3           1.0  Iris-versicolor\n",
      "58    59            6.6           2.9            4.6           1.3  Iris-versicolor\n",
      "59    60            5.2           2.7            3.9           1.4  Iris-versicolor\n",
      "60    61            5.0           2.0            3.5           1.0  Iris-versicolor\n",
      "61    62            5.9           3.0            4.2           1.5  Iris-versicolor\n",
      "62    63            6.0           2.2            4.0           1.0  Iris-versicolor\n",
      "63    64            6.1           2.9            4.7           1.4  Iris-versicolor\n",
      "64    65            5.6           2.9            3.6           1.3  Iris-versicolor\n",
      "65    66            6.7           3.1            4.4           1.4  Iris-versicolor\n",
      "66    67            5.6           3.0            4.5           1.5  Iris-versicolor\n",
      "67    68            5.8           2.7            4.1           1.0  Iris-versicolor\n",
      "68    69            6.2           2.2            4.5           1.5  Iris-versicolor\n",
      "69    70            5.6           2.5            3.9           1.1  Iris-versicolor\n",
      "70    71            5.9           3.2            4.8           1.8  Iris-versicolor\n",
      "71    72            6.1           2.8            4.0           1.3  Iris-versicolor\n",
      "72    73            6.3           2.5            4.9           1.5  Iris-versicolor\n",
      "73    74            6.1           2.8            4.7           1.2  Iris-versicolor\n",
      "74    75            6.4           2.9            4.3           1.3  Iris-versicolor\n",
      "75    76            6.6           3.0            4.4           1.4  Iris-versicolor\n",
      "76    77            6.8           2.8            4.8           1.4  Iris-versicolor\n",
      "77    78            6.7           3.0            5.0           1.7  Iris-versicolor\n",
      "78    79            6.0           2.9            4.5           1.5  Iris-versicolor\n",
      "79    80            5.7           2.6            3.5           1.0  Iris-versicolor\n",
      "80    81            5.5           2.4            3.8           1.1  Iris-versicolor\n",
      "81    82            5.5           2.4            3.7           1.0  Iris-versicolor\n",
      "82    83            5.8           2.7            3.9           1.2  Iris-versicolor\n",
      "83    84            6.0           2.7            5.1           1.6  Iris-versicolor\n",
      "84    85            5.4           3.0            4.5           1.5  Iris-versicolor\n",
      "85    86            6.0           3.4            4.5           1.6  Iris-versicolor\n",
      "86    87            6.7           3.1            4.7           1.5  Iris-versicolor\n",
      "87    88            6.3           2.3            4.4           1.3  Iris-versicolor\n",
      "88    89            5.6           3.0            4.1           1.3  Iris-versicolor\n",
      "89    90            5.5           2.5            4.0           1.3  Iris-versicolor\n",
      "90    91            5.5           2.6            4.4           1.2  Iris-versicolor\n",
      "91    92            6.1           3.0            4.6           1.4  Iris-versicolor\n",
      "92    93            5.8           2.6            4.0           1.2  Iris-versicolor\n",
      "93    94            5.0           2.3            3.3           1.0  Iris-versicolor\n",
      "94    95            5.6           2.7            4.2           1.3  Iris-versicolor\n",
      "95    96            5.7           3.0            4.2           1.2  Iris-versicolor\n",
      "96    97            5.7           2.9            4.2           1.3  Iris-versicolor\n",
      "97    98            6.2           2.9            4.3           1.3  Iris-versicolor\n",
      "98    99            5.1           2.5            3.0           1.1  Iris-versicolor\n",
      "99   100            5.7           2.8            4.1           1.3  Iris-versicolor\n",
      "100  101            6.3           3.3            6.0           2.5   Iris-virginica\n",
      "101  102            5.8           2.7            5.1           1.9   Iris-virginica\n",
      "102  103            7.1           3.0            5.9           2.1   Iris-virginica\n",
      "103  104            6.3           2.9            5.6           1.8   Iris-virginica\n",
      "104  105            6.5           3.0            5.8           2.2   Iris-virginica\n",
      "105  106            7.6           3.0            6.6           2.1   Iris-virginica\n",
      "106  107            4.9           2.5            4.5           1.7   Iris-virginica\n",
      "107  108            7.3           2.9            6.3           1.8   Iris-virginica\n",
      "108  109            6.7           2.5            5.8           1.8   Iris-virginica\n",
      "109  110            7.2           3.6            6.1           2.5   Iris-virginica\n",
      "110  111            6.5           3.2            5.1           2.0   Iris-virginica\n",
      "111  112            6.4           2.7            5.3           1.9   Iris-virginica\n",
      "112  113            6.8           3.0            5.5           2.1   Iris-virginica\n",
      "113  114            5.7           2.5            5.0           2.0   Iris-virginica\n",
      "114  115            5.8           2.8            5.1           2.4   Iris-virginica\n",
      "115  116            6.4           3.2            5.3           2.3   Iris-virginica\n",
      "116  117            6.5           3.0            5.5           1.8   Iris-virginica\n",
      "117  118            7.7           3.8            6.7           2.2   Iris-virginica\n",
      "118  119            7.7           2.6            6.9           2.3   Iris-virginica\n",
      "119  120            6.0           2.2            5.0           1.5   Iris-virginica\n",
      "120  121            6.9           3.2            5.7           2.3   Iris-virginica\n",
      "121  122            5.6           2.8            4.9           2.0   Iris-virginica\n",
      "122  123            7.7           2.8            6.7           2.0   Iris-virginica\n",
      "123  124            6.3           2.7            4.9           1.8   Iris-virginica\n",
      "124  125            6.7           3.3            5.7           2.1   Iris-virginica\n",
      "125  126            7.2           3.2            6.0           1.8   Iris-virginica\n",
      "126  127            6.2           2.8            4.8           1.8   Iris-virginica\n",
      "127  128            6.1           3.0            4.9           1.8   Iris-virginica\n",
      "128  129            6.4           2.8            5.6           2.1   Iris-virginica\n",
      "129  130            7.2           3.0            5.8           1.6   Iris-virginica\n",
      "130  131            7.4           2.8            6.1           1.9   Iris-virginica\n",
      "131  132            7.9           3.8            6.4           2.0   Iris-virginica\n",
      "132  133            6.4           2.8            5.6           2.2   Iris-virginica\n",
      "133  134            6.3           2.8            5.1           1.5   Iris-virginica\n",
      "134  135            6.1           2.6            5.6           1.4   Iris-virginica\n",
      "135  136            7.7           3.0            6.1           2.3   Iris-virginica\n",
      "136  137            6.3           3.4            5.6           2.4   Iris-virginica\n",
      "137  138            6.4           3.1            5.5           1.8   Iris-virginica\n",
      "138  139            6.0           3.0            4.8           1.8   Iris-virginica\n",
      "139  140            6.9           3.1            5.4           2.1   Iris-virginica\n",
      "140  141            6.7           3.1            5.6           2.4   Iris-virginica\n",
      "141  142            6.9           3.1            5.1           2.3   Iris-virginica\n",
      "142  143            5.8           2.7            5.1           1.9   Iris-virginica\n",
      "143  144            6.8           3.2            5.9           2.3   Iris-virginica\n",
      "144  145            6.7           3.3            5.7           2.5   Iris-virginica\n",
      "145  146            6.7           3.0            5.2           2.3   Iris-virginica\n",
      "146  147            6.3           2.5            5.0           1.9   Iris-virginica\n",
      "147  148            6.5           3.0            5.2           2.0   Iris-virginica\n",
      "148  149            6.2           3.4            5.4           2.3   Iris-virginica\n",
      "149  150            5.9           3.0            5.1           1.8   Iris-virginica\n"
     ]
    }
   ],
   "source": [
    "pd.options.display.max_rows = 9999 # by defult it returns 60 rows we can change it \n",
    "df = pd.read_csv(\"Iris.csv\")\n",
    "print(df.to_string())"
   ]
  },
  {
   "cell_type": "code",
   "execution_count": 19,
   "id": "7919c714",
   "metadata": {},
   "outputs": [
    {
     "name": "stdout",
     "output_type": "stream",
     "text": [
      "60\n"
     ]
    }
   ],
   "source": [
    "print(pd.options.display.max_rows) "
   ]
  },
  {
   "cell_type": "markdown",
   "id": "192ffbe8",
   "metadata": {},
   "source": [
    "### Pandas Read JSON"
   ]
  },
  {
   "cell_type": "code",
   "execution_count": 21,
   "id": "9d3c3e48",
   "metadata": {},
   "outputs": [
    {
     "name": "stdout",
     "output_type": "stream",
     "text": [
      "     sepalLength  sepalWidth  petalLength  petalWidth     species\n",
      "0            5.1         3.5          1.4         0.2      setosa\n",
      "1            4.9         3.0          1.4         0.2      setosa\n",
      "2            4.7         3.2          1.3         0.2      setosa\n",
      "3            4.6         3.1          1.5         0.2      setosa\n",
      "4            5.0         3.6          1.4         0.2      setosa\n",
      "5            5.4         3.9          1.7         0.4      setosa\n",
      "6            4.6         3.4          1.4         0.3      setosa\n",
      "7            5.0         3.4          1.5         0.2      setosa\n",
      "8            4.4         2.9          1.4         0.2      setosa\n",
      "9            4.9         3.1          1.5         0.1      setosa\n",
      "10           5.4         3.7          1.5         0.2      setosa\n",
      "11           4.8         3.4          1.6         0.2      setosa\n",
      "12           4.8         3.0          1.4         0.1      setosa\n",
      "13           4.3         3.0          1.1         0.1      setosa\n",
      "14           5.8         4.0          1.2         0.2      setosa\n",
      "15           5.7         4.4          1.5         0.4      setosa\n",
      "16           5.4         3.9          1.3         0.4      setosa\n",
      "17           5.1         3.5          1.4         0.3      setosa\n",
      "18           5.7         3.8          1.7         0.3      setosa\n",
      "19           5.1         3.8          1.5         0.3      setosa\n",
      "20           5.4         3.4          1.7         0.2      setosa\n",
      "21           5.1         3.7          1.5         0.4      setosa\n",
      "22           4.6         3.6          1.0         0.2      setosa\n",
      "23           5.1         3.3          1.7         0.5      setosa\n",
      "24           4.8         3.4          1.9         0.2      setosa\n",
      "25           5.0         3.0          1.6         0.2      setosa\n",
      "26           5.0         3.4          1.6         0.4      setosa\n",
      "27           5.2         3.5          1.5         0.2      setosa\n",
      "28           5.2         3.4          1.4         0.2      setosa\n",
      "29           4.7         3.2          1.6         0.2      setosa\n",
      "30           4.8         3.1          1.6         0.2      setosa\n",
      "31           5.4         3.4          1.5         0.4      setosa\n",
      "32           5.2         4.1          1.5         0.1      setosa\n",
      "33           5.5         4.2          1.4         0.2      setosa\n",
      "34           4.9         3.1          1.5         0.2      setosa\n",
      "35           5.0         3.2          1.2         0.2      setosa\n",
      "36           5.5         3.5          1.3         0.2      setosa\n",
      "37           4.9         3.6          1.4         0.1      setosa\n",
      "38           4.4         3.0          1.3         0.2      setosa\n",
      "39           5.1         3.4          1.5         0.2      setosa\n",
      "40           5.0         3.5          1.3         0.3      setosa\n",
      "41           4.5         2.3          1.3         0.3      setosa\n",
      "42           4.4         3.2          1.3         0.2      setosa\n",
      "43           5.0         3.5          1.6         0.6      setosa\n",
      "44           5.1         3.8          1.9         0.4      setosa\n",
      "45           4.8         3.0          1.4         0.3      setosa\n",
      "46           5.1         3.8          1.6         0.2      setosa\n",
      "47           4.6         3.2          1.4         0.2      setosa\n",
      "48           5.3         3.7          1.5         0.2      setosa\n",
      "49           5.0         3.3          1.4         0.2      setosa\n",
      "50           7.0         3.2          4.7         1.4  versicolor\n",
      "51           6.4         3.2          4.5         1.5  versicolor\n",
      "52           6.9         3.1          4.9         1.5  versicolor\n",
      "53           5.5         2.3          4.0         1.3  versicolor\n",
      "54           6.5         2.8          4.6         1.5  versicolor\n",
      "55           5.7         2.8          4.5         1.3  versicolor\n",
      "56           6.3         3.3          4.7         1.6  versicolor\n",
      "57           4.9         2.4          3.3         1.0  versicolor\n",
      "58           6.6         2.9          4.6         1.3  versicolor\n",
      "59           5.2         2.7          3.9         1.4  versicolor\n",
      "60           5.0         2.0          3.5         1.0  versicolor\n",
      "61           5.9         3.0          4.2         1.5  versicolor\n",
      "62           6.0         2.2          4.0         1.0  versicolor\n",
      "63           6.1         2.9          4.7         1.4  versicolor\n",
      "64           5.6         2.9          3.6         1.3  versicolor\n",
      "65           6.7         3.1          4.4         1.4  versicolor\n",
      "66           5.6         3.0          4.5         1.5  versicolor\n",
      "67           5.8         2.7          4.1         1.0  versicolor\n",
      "68           6.2         2.2          4.5         1.5  versicolor\n",
      "69           5.6         2.5          3.9         1.1  versicolor\n",
      "70           5.9         3.2          4.8         1.8  versicolor\n",
      "71           6.1         2.8          4.0         1.3  versicolor\n",
      "72           6.3         2.5          4.9         1.5  versicolor\n",
      "73           6.1         2.8          4.7         1.2  versicolor\n",
      "74           6.4         2.9          4.3         1.3  versicolor\n",
      "75           6.6         3.0          4.4         1.4  versicolor\n",
      "76           6.8         2.8          4.8         1.4  versicolor\n",
      "77           6.7         3.0          5.0         1.7  versicolor\n",
      "78           6.0         2.9          4.5         1.5  versicolor\n",
      "79           5.7         2.6          3.5         1.0  versicolor\n",
      "80           5.5         2.4          3.8         1.1  versicolor\n",
      "81           5.5         2.4          3.7         1.0  versicolor\n",
      "82           5.8         2.7          3.9         1.2  versicolor\n",
      "83           6.0         2.7          5.1         1.6  versicolor\n",
      "84           5.4         3.0          4.5         1.5  versicolor\n",
      "85           6.0         3.4          4.5         1.6  versicolor\n",
      "86           6.7         3.1          4.7         1.5  versicolor\n",
      "87           6.3         2.3          4.4         1.3  versicolor\n",
      "88           5.6         3.0          4.1         1.3  versicolor\n",
      "89           5.5         2.5          4.0         1.3  versicolor\n",
      "90           5.5         2.6          4.4         1.2  versicolor\n",
      "91           6.1         3.0          4.6         1.4  versicolor\n",
      "92           5.8         2.6          4.0         1.2  versicolor\n",
      "93           5.0         2.3          3.3         1.0  versicolor\n",
      "94           5.6         2.7          4.2         1.3  versicolor\n",
      "95           5.7         3.0          4.2         1.2  versicolor\n",
      "96           5.7         2.9          4.2         1.3  versicolor\n",
      "97           6.2         2.9          4.3         1.3  versicolor\n",
      "98           5.1         2.5          3.0         1.1  versicolor\n",
      "99           5.7         2.8          4.1         1.3  versicolor\n",
      "100          6.3         3.3          6.0         2.5   virginica\n",
      "101          5.8         2.7          5.1         1.9   virginica\n",
      "102          7.1         3.0          5.9         2.1   virginica\n",
      "103          6.3         2.9          5.6         1.8   virginica\n",
      "104          6.5         3.0          5.8         2.2   virginica\n",
      "105          7.6         3.0          6.6         2.1   virginica\n",
      "106          4.9         2.5          4.5         1.7   virginica\n",
      "107          7.3         2.9          6.3         1.8   virginica\n",
      "108          6.7         2.5          5.8         1.8   virginica\n",
      "109          7.2         3.6          6.1         2.5   virginica\n",
      "110          6.5         3.2          5.1         2.0   virginica\n",
      "111          6.4         2.7          5.3         1.9   virginica\n",
      "112          6.8         3.0          5.5         2.1   virginica\n",
      "113          5.7         2.5          5.0         2.0   virginica\n",
      "114          5.8         2.8          5.1         2.4   virginica\n",
      "115          6.4         3.2          5.3         2.3   virginica\n",
      "116          6.5         3.0          5.5         1.8   virginica\n",
      "117          7.7         3.8          6.7         2.2   virginica\n",
      "118          7.7         2.6          6.9         2.3   virginica\n",
      "119          6.0         2.2          5.0         1.5   virginica\n",
      "120          6.9         3.2          5.7         2.3   virginica\n",
      "121          5.6         2.8          4.9         2.0   virginica\n",
      "122          7.7         2.8          6.7         2.0   virginica\n",
      "123          6.3         2.7          4.9         1.8   virginica\n",
      "124          6.7         3.3          5.7         2.1   virginica\n",
      "125          7.2         3.2          6.0         1.8   virginica\n",
      "126          6.2         2.8          4.8         1.8   virginica\n",
      "127          6.1         3.0          4.9         1.8   virginica\n",
      "128          6.4         2.8          5.6         2.1   virginica\n",
      "129          7.2         3.0          5.8         1.6   virginica\n",
      "130          7.4         2.8          6.1         1.9   virginica\n",
      "131          7.9         3.8          6.4         2.0   virginica\n",
      "132          6.4         2.8          5.6         2.2   virginica\n",
      "133          6.3         2.8          5.1         1.5   virginica\n",
      "134          6.1         2.6          5.6         1.4   virginica\n",
      "135          7.7         3.0          6.1         2.3   virginica\n",
      "136          6.3         3.4          5.6         2.4   virginica\n",
      "137          6.4         3.1          5.5         1.8   virginica\n",
      "138          6.0         3.0          4.8         1.8   virginica\n",
      "139          6.9         3.1          5.4         2.1   virginica\n",
      "140          6.7         3.1          5.6         2.4   virginica\n",
      "141          6.9         3.1          5.1         2.3   virginica\n",
      "142          5.8         2.7          5.1         1.9   virginica\n",
      "143          6.8         3.2          5.9         2.3   virginica\n",
      "144          6.7         3.3          5.7         2.5   virginica\n",
      "145          6.7         3.0          5.2         2.3   virginica\n",
      "146          6.3         2.5          5.0         1.9   virginica\n",
      "147          6.5         3.0          5.2         2.0   virginica\n",
      "148          6.2         3.4          5.4         2.3   virginica\n",
      "149          5.9         3.0          5.1         1.8   virginica\n"
     ]
    }
   ],
   "source": [
    "df = pd.read_json(\"iris.json\")\n",
    "print(df)"
   ]
  },
  {
   "cell_type": "markdown",
   "id": "ddd4a8a0",
   "metadata": {},
   "source": [
    "Dictionary as JSON\n",
    "\n",
    "JSON objects have the same format as Python dictionaries."
   ]
  },
  {
   "cell_type": "code",
   "execution_count": 23,
   "id": "5d750ebb",
   "metadata": {},
   "outputs": [
    {
     "name": "stdout",
     "output_type": "stream",
     "text": [
      "   Duration  Pulse  Maxpulse  Calories\n",
      "0        60    110       130       409\n",
      "1        60    117       145       479\n",
      "2        60    103       135       340\n",
      "3        45    109       175       282\n",
      "4        45    117       148       406\n",
      "5        60    102       127       300\n"
     ]
    }
   ],
   "source": [
    "data = {\n",
    "    \"Duration\":{\n",
    "    \"0\":60,\n",
    "    \"1\":60,\n",
    "    \"2\":60,\n",
    "    \"3\":45,\n",
    "    \"4\":45,\n",
    "    \"5\":60\n",
    "    },\n",
    "    \"Pulse\":{\n",
    "    \"0\":110,\n",
    "    \"1\":117,\n",
    "    \"2\":103,\n",
    "    \"3\":109,\n",
    "    \"4\":117,\n",
    "    \"5\":102\n",
    "    },\n",
    "    \"Maxpulse\":{\n",
    "    \"0\":130,\n",
    "    \"1\":145,\n",
    "    \"2\":135,\n",
    "    \"3\":175,\n",
    "    \"4\":148,\n",
    "    \"5\":127\n",
    "    },\n",
    "    \"Calories\":{\n",
    "    \"0\":409,\n",
    "    \"1\":479,\n",
    "    \"2\":340,\n",
    "    \"3\":282,\n",
    "    \"4\":406,\n",
    "    \"5\":300\n",
    "    }\n",
    "}\n",
    "df = pd.DataFrame(data)\n",
    "print(df)"
   ]
  },
  {
   "cell_type": "markdown",
   "id": "29244904",
   "metadata": {},
   "source": [
    "### Pandas - Analyzing DataFrames"
   ]
  },
  {
   "cell_type": "markdown",
   "id": "adbda950",
   "metadata": {},
   "source": [
    "Viewing the Data"
   ]
  },
  {
   "cell_type": "code",
   "execution_count": null,
   "id": "2109cd8e",
   "metadata": {},
   "outputs": [
    {
     "name": "stdout",
     "output_type": "stream",
     "text": [
      "   Id  SepalLengthCm  SepalWidthCm  PetalLengthCm  PetalWidthCm      Species\n",
      "0   1            5.1           3.5            1.4           0.2  Iris-setosa\n",
      "1   2            4.9           3.0            1.4           0.2  Iris-setosa\n",
      "2   3            4.7           3.2            1.3           0.2  Iris-setosa\n",
      "3   4            4.6           3.1            1.5           0.2  Iris-setosa\n",
      "4   5            5.0           3.6            1.4           0.2  Iris-setosa\n",
      "5   6            5.4           3.9            1.7           0.4  Iris-setosa\n",
      "6   7            4.6           3.4            1.4           0.3  Iris-setosa\n",
      "7   8            5.0           3.4            1.5           0.2  Iris-setosa\n",
      "8   9            4.4           2.9            1.4           0.2  Iris-setosa\n",
      "9  10            4.9           3.1            1.5           0.1  Iris-setosa\n",
      "      Id  SepalLengthCm  SepalWidthCm  PetalLengthCm  PetalWidthCm  \\\n",
      "145  146            6.7           3.0            5.2           2.3   \n",
      "146  147            6.3           2.5            5.0           1.9   \n",
      "147  148            6.5           3.0            5.2           2.0   \n",
      "148  149            6.2           3.4            5.4           2.3   \n",
      "149  150            5.9           3.0            5.1           1.8   \n",
      "\n",
      "            Species  \n",
      "145  Iris-virginica  \n",
      "146  Iris-virginica  \n",
      "147  Iris-virginica  \n",
      "148  Iris-virginica  \n",
      "149  Iris-virginica  \n",
      "<class 'pandas.core.frame.DataFrame'>\n",
      "RangeIndex: 150 entries, 0 to 149\n",
      "Data columns (total 6 columns):\n",
      " #   Column         Non-Null Count  Dtype  \n",
      "---  ------         --------------  -----  \n",
      " 0   Id             150 non-null    int64  \n",
      " 1   SepalLengthCm  150 non-null    float64\n",
      " 2   SepalWidthCm   150 non-null    float64\n",
      " 3   PetalLengthCm  150 non-null    float64\n",
      " 4   PetalWidthCm   150 non-null    float64\n",
      " 5   Species        150 non-null    object \n",
      "dtypes: float64(4), int64(1), object(1)\n",
      "memory usage: 7.2+ KB\n",
      "None\n"
     ]
    }
   ],
   "source": [
    "df = pd.read_csv(\"iris.csv\")\n",
    "\n",
    "print(df.head(10)) # head() method for viewing the top rows of the DataFrame.\n",
    "print(df.tail()) # tail() method for viewing the last rows of the DataFrame.\n"
   ]
  },
  {
   "cell_type": "code",
   "execution_count": 31,
   "id": "e245f141",
   "metadata": {},
   "outputs": [
    {
     "name": "stdout",
     "output_type": "stream",
     "text": [
      "<class 'pandas.core.frame.DataFrame'>\n",
      "RangeIndex: 150 entries, 0 to 149\n",
      "Data columns (total 6 columns):\n",
      " #   Column         Non-Null Count  Dtype  \n",
      "---  ------         --------------  -----  \n",
      " 0   Id             150 non-null    int64  \n",
      " 1   SepalLengthCm  150 non-null    float64\n",
      " 2   SepalWidthCm   150 non-null    float64\n",
      " 3   PetalLengthCm  150 non-null    float64\n",
      " 4   PetalWidthCm   150 non-null    float64\n",
      " 5   Species        150 non-null    object \n",
      "dtypes: float64(4), int64(1), object(1)\n",
      "memory usage: 7.2+ KB\n",
      "None\n"
     ]
    }
   ],
   "source": [
    "print(df.info())"
   ]
  },
  {
   "cell_type": "markdown",
   "id": "9be699c8",
   "metadata": {},
   "source": [
    "### Pandas - Plotting"
   ]
  },
  {
   "cell_type": "code",
   "execution_count": 32,
   "id": "cb5e9a89",
   "metadata": {},
   "outputs": [],
   "source": [
    "import matplotlib.pyplot as plt\n"
   ]
  },
  {
   "cell_type": "code",
   "execution_count": 39,
   "id": "9086235a",
   "metadata": {},
   "outputs": [
    {
     "data": {
      "image/png": "[encoded data removed]",
      "text/plain": [
       "<Figure size 640x480 with 1 Axes>"
      ]
     },
     "metadata": {},
     "output_type": "display_data"
    }
   ],
   "source": [
    "df  = pd.read_csv(\"Iris.csv\")\n",
    "df.plot()\n",
    "plt.show()"
   ]
  },
  {
   "cell_type": "code",
   "execution_count": null,
   "id": "bd62f8eb",
   "metadata": {},
   "outputs": [
    {
     "data": {
      "image/png": "[encoded data removed]",
      "text/plain": [
       "<Figure size 640x480 with 1 Axes>"
      ]
     },
     "metadata": {},
     "output_type": "display_data"
    }
   ],
   "source": [
    "# Scatter Plot\n",
    "df  = pd.read_csv(\"Iris.csv\")\n",
    "df.plot(kind='scatter',x=\"SepalLengthCm\",y=\"PetalWidthCm\") # scatter plt need x, y values\n",
    "plt.show()"
   ]
  },
  {
   "cell_type": "code",
   "execution_count": 41,
   "id": "37fbbfc9",
   "metadata": {},
   "outputs": [
    {
     "data": {
      "text/plain": [
       "<Axes: ylabel='Frequency'>"
      ]
     },
     "execution_count": 41,
     "metadata": {},
     "output_type": "execute_result"
    },
    {
     "data": {
      "image/png": "[encoded data removed]",
      "text/plain": [
       "<Figure size 640x480 with 1 Axes>"
      ]
     },
     "metadata": {},
     "output_type": "display_data"
    }
   ],
   "source": [
    "df[\"PetalLengthCm\"].plot(kind=\"hist\")"
   ]
  },
  {
   "cell_type": "markdown",
   "id": "61d0eb17",
   "metadata": {},
   "source": [
    "### Pandas - Data Correlations"
   ]
  },
  {
   "cell_type": "code",
   "execution_count": 45,
   "id": "59639398",
   "metadata": {},
   "outputs": [
    {
     "name": "stdout",
     "output_type": "stream",
     "text": [
      "          Duration     Pulse  Maxpulse  Calories\n",
      "Duration  1.000000 -0.155408  0.009403  0.922717\n",
      "Pulse    -0.155408  1.000000  0.786535  0.025121\n",
      "Maxpulse  0.009403  0.786535  1.000000  0.203813\n",
      "Calories  0.922717  0.025121  0.203813  1.000000\n"
     ]
    }
   ],
   "source": [
    "df = pd.read_csv('data.csv')\n",
    "print(df.corr())"
   ]
  }
 ],
 "metadata": {
  "kernelspec": {
   "display_name": "venv",
   "language": "python",
   "name": "python3"
  },
  "language_info": {
   "codemirror_mode": {
    "name": "ipython",
    "version": 3
   },
   "file_extension": ".py",
   "mimetype": "text/x-python",
   "name": "python",
   "nbconvert_exporter": "python",
   "pygments_lexer": "ipython3",
   "version": "3.13.2"
  }
 },
 "nbformat": 4,
 "nbformat_minor": 5
}
